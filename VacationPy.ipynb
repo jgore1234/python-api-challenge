{
 "cells": [
  {
   "cell_type": "markdown",
   "metadata": {},
   "source": [
    "# VacationPy\n",
    "----\n",
    "\n",
    "#### Note\n",
    "* Instructions have been included for each segment. You do not have to follow them exactly, but they are included to help you think through the steps."
   ]
  },
  {
   "cell_type": "code",
   "execution_count": null,
   "metadata": {},
   "outputs": [],
   "source": [
    "# Dependencies and Setup\n",
    "import matplotlib.pyplot as plt\n",
    "import pandas as pd\n",
    "import numpy as np\n",
    "import requests\n",
    "import gmaps\n",
    "import os\n",
    "import json\n",
    "\n",
    "# Import API key\n",
    "from api_keys import g_key"
   ]
  },
  {
   "cell_type": "markdown",
   "metadata": {},
   "source": [
    "### Store Part I results into DataFrame\n",
    "* Load the csv exported in Part I to a DataFrame"
   ]
  },
  {
   "cell_type": "code",
   "execution_count": null,
   "metadata": {},
   "outputs": [],
   "source": [
    "# --- store the filepath in a variable ---\n",
    "file = \"../output_data/cities.csv\"\n",
    "\n",
    "# --- read the csv file and create a dataframe ---\n",
    "cities_data = pd.DataFrame(pd.read_csv(file, index_col=\"City ID\"))\n",
    "\n",
    "# --- display the dataframe ---\n",
    "cities_data\n"
   ]
  },
  {
   "cell_type": "markdown",
   "metadata": {},
   "source": [
    "### Humidity Heatmap\n",
    "* Configure gmaps.\n",
    "* Use the Lat and Lng as locations and Humidity as the weight.\n",
    "* Add Heatmap layer to map."
   ]
  },
  {
   "cell_type": "code",
   "execution_count": null,
   "metadata": {},
   "outputs": [],
   "source": [
    "# --- access maps with unique API key ---\n",
    "gmaps.configure(api_key=g_key)\n",
    "\n",
    "# --- use Lat and Lng as locations and Humidity as the weight ---\n",
    "locations = cities_data[[\"Lat\", \"Lng\"]]\n",
    "weights = cities_data[\"Humidity (%)\"]\n",
    "\n",
    "# --- customize the size of the figure and add heatmap layer to map ---\n",
    "figure_layout = {\n",
    "    'width': \"100%\",\n",
    "    'height': '400px',\n",
    "#    'border': '1px solid black',\n",
    "    'padding': '1px',\n",
    "#    'margin': '0 auto 0 auto'\n",
    "}\n",
    "fig = gmaps.figure(layout=figure_layout, center=(20.0, 5.0), zoom_level=1.9)\n",
    "heatmap_layer = gmaps.heatmap_layer(locations, weights=weights, dissipating=False)\n",
    "fig.add_layer(heatmap_layer)\n",
    "\n",
    "# --- set maximum intensity and point_radius settings ---\n",
    "heatmap_layer.max_intensity = max(weights)\n",
    "heatmap_layer.point_radius = 3\n",
    "\n",
    "# --- display heatmap ---\n",
    "fig"
   ]
  },
  {
   "cell_type": "markdown",
   "metadata": {},
   "source": [
    "### Create new DataFrame fitting weather criteria\n",
    "* Narrow down the cities to fit weather conditions.\n",
    "* Drop any rows will null values."
   ]
  },
  {
   "cell_type": "code",
   "execution_count": null,
   "metadata": {},
   "outputs": [],
   "source": [
    "# --- create dataframe with conditional statements to fit the below criteria ---\n",
    "# 1. A max temperature lower than 80 degrees but higher than 70.\n",
    "# 2. Wind speed less than 10 mph.\n",
    "# 3. Zero cloudiness.\n",
    "# 4. Humidity is less than 75%\n",
    "# 5\n",
    "\n",
    "ideal_cities = cities_data.loc[(cities_data[\"Max Temp (F)\"] > 70) & \n",
    "                               (cities_data[\"Max Temp (F)\"] < 80) & \n",
    "                               (cities_data[\"Wind Speed (mph)\"] < 10) & \n",
    "                               (cities_data[\"Cloudiness (%)\"] == 0) &\n",
    "                               (cities_data[\"Humidity (%)\"] < 75), :].reset_index(drop=True).dropna()\n",
    "ideal_cities"
   ]
  },
  {
   "cell_type": "markdown",
   "metadata": {},
   "source": [
    "### Hotel Map\n",
    "* Store into variable named `hotel_df`.\n",
    "* Add a \"Hotel Name\" column to the DataFrame.\n",
    "* Set parameters to search for hotels with 5000 meters.\n",
    "* Hit the Google Places API for each city's coordinates.\n",
    "* Store the first Hotel result into the DataFrame.\n",
    "* Plot markers on top of the heatmap."
   ]
  },
  {
   "cell_type": "code",
   "execution_count": null,
   "metadata": {},
   "outputs": [],
   "source": [
    "# --- store into variable named hotel_df ---\n",
    "\n",
    "hotel_df = ideal_cities[[\"City\", \"Country\", \"Lat\", \"Lng\"]].copy()\n",
    "\n",
    "# --- Add a \"Hotel Name\" column to the DataFrame with null values ---\n",
    "hotel_df[\"Hotel Name\"] = np.nan\n",
    "hotel_df\n"
   ]
  },
  {
   "cell_type": "code",
   "execution_count": null,
   "metadata": {},
   "outputs": [],
   "source": [
    "# --- set up parameters for querying Google Places API ---\n",
    "target_search = \"hotel\"\n",
    "target_radius = 5000\n",
    "target_type = \"lodging\"\n",
    "\n",
    "# --- set up a parameters dictionary ---\n",
    "params = {\n",
    "    \"keyword\": target_search,\n",
    "    \"radius\": target_radius,\n",
    "    \"type\": target_type,\n",
    "    \"key\": g_key\n",
    "}\n",
    "\n",
    "# --- define base url ---\n",
    "base_url = \"https://maps.googleapis.com/maps/api/place/nearbysearch/json\""
   ]
  },
  {
   "cell_type": "code",
   "execution_count": null,
   "metadata": {},
   "outputs": [],
   "source": [
    "\n",
    "# --- use a for loop to go through each city in the dataframe and make an API call ---\n",
    "\n",
    "for index, row in hotel_df.iterrows():\n",
    "    \n",
    "    # --- get the coordinates and store in params dictionary ---\n",
    "    lat = row[\"Lat\"]\n",
    "    lng = row[\"Lng\"]\n",
    "    params[\"location\"] = f\"{lat},{lng}\"\n",
    "    \n",
    "    # --- call the API and get hotel details for each city ---\n",
    "    hotel_data = requests.get(base_url, params).json()\n",
    "    \n",
    "    # --- use exception handling to save the first hotel name for each city ---\n",
    "    \n",
    "    try:\n",
    "        hotel_name = hotel_data[\"results\"][0][\"name\"]\n",
    "        hotel_df.loc[index, \"Hotel Name\"] = hotel_name\n",
    "        print(f\"City '{row['City']}' found! The nearest hotel is {hotel_name}\")\n",
    "        print(\"-------------------------------------------------------------------------\")\n",
    "              \n",
    "    except:\n",
    "        print(f\"Could not find information for city '{row['City']}'... skipping.\")    \n",
    "        print(\"-------------------------------------------------------------------------\")"
   ]
  },
  {
   "cell_type": "code",
   "execution_count": null,
   "metadata": {},
   "outputs": [],
   "source": [
    "# --- remove null rows from dataframe ---\n",
    "hotel_df.dropna(how=\"any\",inplace=True)\n",
    "hotel_df.reset_index(drop=True, inplace=True)\n",
    "\n",
    "# --- display final dataframe ---\n",
    "hotel_df"
   ]
  },
  {
   "cell_type": "code",
   "execution_count": null,
   "metadata": {},
   "outputs": [],
   "source": [
    "# NOTE: Do not change any of the code in this cell\n",
    "\n",
    "# Using the template add the hotel marks to the heatmap\n",
    "info_box_template = \"\"\"\n",
    "<dl>\n",
    "<dt>Name</dt><dd>{Hotel Name}</dd>\n",
    "<dt>City</dt><dd>{City}</dd>\n",
    "<dt>Country</dt><dd>{Country}</dd>\n",
    "</dl>\n",
    "\"\"\"\n",
    "# Store the DataFrame Row\n",
    "# NOTE: be sure to update with your DataFrame name\n",
    "hotel_info = [info_box_template.format(**row) for index, row in hotel_df.iterrows()]\n",
    "locations = hotel_df[[\"Lat\", \"Lng\"]]"
   ]
  },
  {
   "cell_type": "code",
   "execution_count": null,
   "metadata": {},
   "outputs": [],
   "source": [
    "# --- add marker layer on top of heat map ---\n",
    "markers = gmaps.marker_layer(locations, info_box_content = hotel_info)\n",
    "fig.add_layer(markers)\n",
    "\n",
    "# Display figure\n",
    "fig"
   ]
  },
  {
   "cell_type": "code",
   "execution_count": null,
   "metadata": {},
   "outputs": [],
   "source": []
  }
 ],
 "metadata": {
  "kernelspec": {
   "display_name": "Python 3",
   "language": "python",
   "name": "python3"
  },
  "language_info": {
   "codemirror_mode": {
    "name": "ipython",
    "version": 3
   },
   "file_extension": ".py",
   "mimetype": "text/x-python",
   "name": "python",
   "nbconvert_exporter": "python",
   "pygments_lexer": "ipython3",
   "version": "3.8.5"
  },
  "latex_envs": {
   "LaTeX_envs_menu_present": true,
   "autoclose": false,
   "autocomplete": true,
   "bibliofile": "biblio.bib",
   "cite_by": "apalike",
   "current_citInitial": 1,
   "eqLabelWithNumbers": true,
   "eqNumInitial": 1,
   "hotkeys": {
    "equation": "Ctrl-E",
    "itemize": "Ctrl-I"
   },
   "labels_anchors": false,
   "latex_user_defs": false,
   "report_style_numbering": false,
   "user_envs_cfg": false
  }
 },
 "nbformat": 4,
 "nbformat_minor": 2
}
